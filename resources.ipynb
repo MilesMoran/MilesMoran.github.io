{
  "cells": [
    {
      "cell_type": "raw",
      "metadata": {},
      "source": [
        "---\n",
        "title: \"Resources\"\n",
        "\n",
        "\n",
        "          \n",
        "format: \n",
        "  html:\n",
        "    page-layout: full\n",
        "    css: \"__assets/css/styles-resources.css\"\n",
        "\n",
        "listing:\n",
        "  id: resources \n",
        "  type: default\n",
        "  contents: \"resources.yml\"\n",
        "  template: \"__assets/js/listing_resources.ejs\"\n",
        "  sort: \"description desc\"\n",
        "  fields: [image, title, description, author, categories]\n",
        "  categories: unnumbered\n",
        "---"
      ],
      "id": "83f5f062"
    },
    {
      "cell_type": "markdown",
      "metadata": {},
      "source": [
        "<!--#########################################################################-->\n",
        "\n",
        "The following is a curated list of resources I often recommend to our consulting clients. Select one or more niches/categories from the sidebar to filter the list."
      ],
      "id": "fc1ff846"
    },
    {
      "cell_type": "markdown",
      "metadata": {},
      "source": [
        "---\n",
        "\n",
        "::: {#resources}\n",
        ":::\n",
        "\n",
        "\n",
        "```{html}\n",
        "<script>\n",
        "MathJax.typeset();\n",
        "</script>\n",
        "```\n",
        "\n",
        "\n",
        "<!--#########################################################################-->"
      ],
      "id": "7d76d17e"
    }
  ],
  "metadata": {
    "kernelspec": {
      "display_name": "Python 3",
      "language": "python",
      "name": "python3"
    }
  },
  "nbformat": 4,
  "nbformat_minor": 5
}